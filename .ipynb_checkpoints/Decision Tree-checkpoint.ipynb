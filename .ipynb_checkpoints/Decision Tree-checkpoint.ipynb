{
 "cells": [
  {
   "cell_type": "markdown",
   "metadata": {},
   "source": [
    "To do:\n",
    "- Pre Prunning vs. Post Prunning s. 74-75\n"
   ]
  },
  {
   "cell_type": "code",
   "execution_count": 75,
   "metadata": {},
   "outputs": [],
   "source": [
    "import pandas as pd\n",
    "from sklearn.model_selection import train_test_split\n",
    "from sklearn.tree import DecisionTreeRegressor\n",
    "from sklearn.ensemble import RandomForestRegressor\n",
    "\n",
    "#import seaborn as sns\n",
    "from sklearn import preprocessing\n",
    "\n",
    "import numpy as np"
   ]
  },
  {
   "cell_type": "code",
   "execution_count": 76,
   "metadata": {},
   "outputs": [],
   "source": [
    "df = pd.read_csv(\"PreppedDataSet.csv\")"
   ]
  },
  {
   "cell_type": "markdown",
   "metadata": {},
   "source": [
    "#### Assigning y and X variables"
   ]
  },
  {
   "cell_type": "code",
   "execution_count": 77,
   "metadata": {},
   "outputs": [],
   "source": [
    "# Target value as Price\n",
    "y = df['price']"
   ]
  },
  {
   "cell_type": "code",
   "execution_count": 114,
   "metadata": {},
   "outputs": [
    {
     "data": {
      "text/plain": [
       "\"\\n\\nX = df[['cab_type', 'distance', 'source', 'destination', 'price', 'surge_multiplier', 'name',\\n        'date', 'weekday', 'hour', 'time_of_day',\\n        'temp', 'clouds', 'pressure', 'rain', 'humidity', 'wind']]\\nX_dummies = pd.get_dummies(X)\\n\""
      ]
     },
     "execution_count": 114,
     "metadata": {},
     "output_type": "execute_result"
    }
   ],
   "source": [
    "# X values as all other attributes\n",
    "\n",
    "data_features = ['cab_type', 'distance', 'source', 'destination', 'surge_multiplier', 'name',\n",
    "                 'date', 'weekday', 'hour', 'time_of_day',\n",
    "                 'temp', 'clouds', 'pressure', 'rain', 'humidity', 'wind']\n",
    "\n",
    "dummies = pd.get_dummies(data_features)\n",
    "\n",
    "X = df[data_features]\n",
    "\n",
    "X_dummies = pd.get_dummies(X)\n",
    "\n",
    "\n",
    "\"\"\"\n",
    "\n",
    "X = df[['cab_type', 'distance', 'source', 'destination', 'price', 'surge_multiplier', 'name',\n",
    "        'date', 'weekday', 'hour', 'time_of_day',\n",
    "        'temp', 'clouds', 'pressure', 'rain', 'humidity', 'wind']]\n",
    "X_dummies = pd.get_dummies(X)\n",
    "\"\"\""
   ]
  },
  {
   "cell_type": "code",
   "execution_count": 115,
   "metadata": {},
   "outputs": [],
   "source": []
  }
 ],
 "metadata": {
  "kernelspec": {
   "display_name": "Python 3",
   "language": "python",
   "name": "python3"
  },
  "language_info": {
   "codemirror_mode": {
    "name": "ipython",
    "version": 3
   },
   "file_extension": ".py",
   "mimetype": "text/x-python",
   "name": "python",
   "nbconvert_exporter": "python",
   "pygments_lexer": "ipython3",
   "version": "3.7.4"
  }
 },
 "nbformat": 4,
 "nbformat_minor": 2
}
