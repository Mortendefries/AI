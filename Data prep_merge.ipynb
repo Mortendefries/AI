{
 "cells": [
  {
   "cell_type": "code",
   "execution_count": 12,
   "metadata": {},
   "outputs": [],
   "source": [
    "import numpy as np\n",
    "import pandas as pd\n",
    "from datetime import datetime"
   ]
  },
  {
   "cell_type": "code",
   "execution_count": 21,
   "metadata": {},
   "outputs": [],
   "source": [
    "weather_df = pd.read_csv('weather.csv')\n",
    "cab_weather_df = pd.read_csv('cab_rides.csv')"
   ]
  },
  {
   "cell_type": "code",
   "execution_count": 22,
   "metadata": {},
   "outputs": [
    {
     "data": {
      "text/plain": [
       "distance                0\n",
       "cab_type                0\n",
       "time_stamp              0\n",
       "destination             0\n",
       "source                  0\n",
       "price               55095\n",
       "surge_multiplier        0\n",
       "id                      0\n",
       "product_id              0\n",
       "name                    0\n",
       "dtype: int64"
      ]
     },
     "execution_count": 22,
     "metadata": {},
     "output_type": "execute_result"
    }
   ],
   "source": [
    "cab_weather_df.isnull().sum()"
   ]
  },
  {
   "cell_type": "code",
   "execution_count": 23,
   "metadata": {},
   "outputs": [
    {
     "data": {
      "text/plain": [
       "distance            0\n",
       "cab_type            0\n",
       "time_stamp          0\n",
       "destination         0\n",
       "source              0\n",
       "price               0\n",
       "surge_multiplier    0\n",
       "id                  0\n",
       "product_id          0\n",
       "name                0\n",
       "dtype: int64"
      ]
     },
     "execution_count": 23,
     "metadata": {},
     "output_type": "execute_result"
    }
   ],
   "source": [
    "#Dropping instances where the price is null \n",
    "cab_weather_df.dropna(inplace=True)\n",
    "\n",
    "cab_weather_df.isnull().sum()"
   ]
  },
  {
   "cell_type": "code",
   "execution_count": 24,
   "metadata": {},
   "outputs": [
    {
     "data": {
      "text/plain": [
       "Index(['distance', 'cab_type', 'time_stamp', 'destination', 'source', 'price',\n",
       "       'surge_multiplier', 'id', 'product_id', 'name'],\n",
       "      dtype='object')"
      ]
     },
     "execution_count": 24,
     "metadata": {},
     "output_type": "execute_result"
    }
   ],
   "source": [
    "cab_weather_df.columns"
   ]
  },
  {
   "cell_type": "code",
   "execution_count": 25,
   "metadata": {},
   "outputs": [
    {
     "data": {
      "text/html": [
       "<div>\n",
       "<style scoped>\n",
       "    .dataframe tbody tr th:only-of-type {\n",
       "        vertical-align: middle;\n",
       "    }\n",
       "\n",
       "    .dataframe tbody tr th {\n",
       "        vertical-align: top;\n",
       "    }\n",
       "\n",
       "    .dataframe thead th {\n",
       "        text-align: right;\n",
       "    }\n",
       "</style>\n",
       "<table border=\"1\" class=\"dataframe\">\n",
       "  <thead>\n",
       "    <tr style=\"text-align: right;\">\n",
       "      <th></th>\n",
       "      <th>distance</th>\n",
       "      <th>cab_type</th>\n",
       "      <th>time_stamp</th>\n",
       "      <th>destination</th>\n",
       "      <th>source</th>\n",
       "      <th>price</th>\n",
       "      <th>surge_multiplier</th>\n",
       "      <th>name</th>\n",
       "    </tr>\n",
       "  </thead>\n",
       "  <tbody>\n",
       "    <tr>\n",
       "      <th>0</th>\n",
       "      <td>0.44</td>\n",
       "      <td>Lyft</td>\n",
       "      <td>1544952607890</td>\n",
       "      <td>North Station</td>\n",
       "      <td>Haymarket Square</td>\n",
       "      <td>5.0</td>\n",
       "      <td>1.0</td>\n",
       "      <td>Shared</td>\n",
       "    </tr>\n",
       "    <tr>\n",
       "      <th>1</th>\n",
       "      <td>0.44</td>\n",
       "      <td>Lyft</td>\n",
       "      <td>1543284023677</td>\n",
       "      <td>North Station</td>\n",
       "      <td>Haymarket Square</td>\n",
       "      <td>11.0</td>\n",
       "      <td>1.0</td>\n",
       "      <td>Lux</td>\n",
       "    </tr>\n",
       "    <tr>\n",
       "      <th>2</th>\n",
       "      <td>0.44</td>\n",
       "      <td>Lyft</td>\n",
       "      <td>1543366822198</td>\n",
       "      <td>North Station</td>\n",
       "      <td>Haymarket Square</td>\n",
       "      <td>7.0</td>\n",
       "      <td>1.0</td>\n",
       "      <td>Lyft</td>\n",
       "    </tr>\n",
       "    <tr>\n",
       "      <th>3</th>\n",
       "      <td>0.44</td>\n",
       "      <td>Lyft</td>\n",
       "      <td>1543553582749</td>\n",
       "      <td>North Station</td>\n",
       "      <td>Haymarket Square</td>\n",
       "      <td>26.0</td>\n",
       "      <td>1.0</td>\n",
       "      <td>Lux Black XL</td>\n",
       "    </tr>\n",
       "    <tr>\n",
       "      <th>4</th>\n",
       "      <td>0.44</td>\n",
       "      <td>Lyft</td>\n",
       "      <td>1543463360223</td>\n",
       "      <td>North Station</td>\n",
       "      <td>Haymarket Square</td>\n",
       "      <td>9.0</td>\n",
       "      <td>1.0</td>\n",
       "      <td>Lyft XL</td>\n",
       "    </tr>\n",
       "  </tbody>\n",
       "</table>\n",
       "</div>"
      ],
      "text/plain": [
       "   distance cab_type     time_stamp    destination            source  price  \\\n",
       "0      0.44     Lyft  1544952607890  North Station  Haymarket Square    5.0   \n",
       "1      0.44     Lyft  1543284023677  North Station  Haymarket Square   11.0   \n",
       "2      0.44     Lyft  1543366822198  North Station  Haymarket Square    7.0   \n",
       "3      0.44     Lyft  1543553582749  North Station  Haymarket Square   26.0   \n",
       "4      0.44     Lyft  1543463360223  North Station  Haymarket Square    9.0   \n",
       "\n",
       "   surge_multiplier          name  \n",
       "0               1.0        Shared  \n",
       "1               1.0           Lux  \n",
       "2               1.0          Lyft  \n",
       "3               1.0  Lux Black XL  \n",
       "4               1.0       Lyft XL  "
      ]
     },
     "execution_count": 25,
     "metadata": {},
     "output_type": "execute_result"
    }
   ],
   "source": [
    "cab_weather_df = cab_weather_df[['distance', 'cab_type', 'time_stamp', 'destination', 'source', 'price',\n",
    "       'surge_multiplier', 'name']]\n",
    "\n",
    "cab_weather_df.head()"
   ]
  },
  {
   "cell_type": "code",
   "execution_count": 26,
   "metadata": {},
   "outputs": [],
   "source": [
    "weather_df.columns = ['temp', 'source', 'clouds', 'pressure', 'rain', 'time_stamp', 'humidity', 'wind']"
   ]
  },
  {
   "cell_type": "code",
   "execution_count": 27,
   "metadata": {},
   "outputs": [],
   "source": [
    "#we want to convert the timestamps into date, time, weekday, hour, and time of day (Morning, afternoon, evening, and night)\n",
    "cab_weather_df[\"rounded_timestamp\"] = cab_weather_df[\"time_stamp\"] / 1000\n",
    "cab_weather_df[\"rounded_timestamp\"] = cab_weather_df[\"rounded_timestamp\"].apply(np.floor)\n",
    "\n",
    "cab_weather_df[\"date\"] = cab_weather_df[\"rounded_timestamp\"].apply(lambda x : datetime.fromtimestamp(x).date())\n",
    "cab_weather_df[\"time\"] = cab_weather_df[\"rounded_timestamp\"].apply(lambda x: datetime.fromtimestamp(x).time())\n",
    "cab_weather_df['weekday'] = cab_weather_df['date'].apply(lambda x: x.weekday())\n",
    "cab_weather_df[\"weekday\"] = cab_weather_df[\"weekday\"].map({0: 'Monday', 1: 'Tuesday', 2: 'Wednesday', 3: 'Thursday', 4: 'Friday', 5: 'Saturday', 6: 'Sunday'})\n",
    "cab_weather_df['hour'] = cab_weather_df['time'].apply(lambda time: time.hour)\n",
    "\n",
    "cab_weather_df.loc[(cab_weather_df.hour >= 6) & (cab_weather_df.hour < 12) , 'time_of_day'] = 'Morning'\n",
    "cab_weather_df.loc[(cab_weather_df.hour >= 12) & (cab_weather_df.hour < 15) , 'time_of_day'] = 'Afternoon'\n",
    "cab_weather_df.loc[(cab_weather_df.hour >= 15) & (cab_weather_df.hour < 18) , 'time_of_day'] = 'Evening'\n",
    "cab_weather_df.loc[(cab_weather_df.hour >= 18) | (cab_weather_df.hour < 6) , 'time_of_day'] = 'Night'\n",
    "\n",
    "cab_weather_df = cab_weather_df[['distance', 'cab_type', 'time_stamp', 'destination', 'source', 'price',\n",
    "       'surge_multiplier', 'name', 'date', 'time', 'weekday', 'hour', 'time_of_day']]"
   ]
  },
  {
   "cell_type": "code",
   "execution_count": 28,
   "metadata": {},
   "outputs": [],
   "source": [
    "#we want to convert the timestamps into date, time, weekday, hour, and time of day (Morning, afternoon, evening, and night)\n",
    "weather_df[\"rounded_timestamp\"] = weather_df[\"time_stamp\"] / 1000\n",
    "weather_df[\"rounded_timestamp\"] = weather_df[\"rounded_timestamp\"].apply(np.floor)\n",
    "\n",
    "weather_df[\"date\"] = weather_df[\"rounded_timestamp\"].apply(lambda x : datetime.fromtimestamp(x).date())\n",
    "weather_df[\"time\"] = weather_df[\"rounded_timestamp\"].apply(lambda x: datetime.fromtimestamp(x).time())\n",
    "weather_df['weekday'] = weather_df['date'].apply(lambda x: x.weekday())\n",
    "weather_df[\"weekday\"] = weather_df[\"weekday\"].map({0: 'Monday', 1: 'Tuesday', 2: 'Wednesday', 3: 'Thursday', 4: 'Friday', 5: 'Saturday', 6: 'Sunday'})\n",
    "weather_df['hour'] = weather_df['time'].apply(lambda time: time.hour)\n",
    "\n",
    "weather_df.loc[(weather_df.hour >= 6) & (weather_df.hour < 12) , 'time_of_day'] = 'Morning'\n",
    "weather_df.loc[(weather_df.hour >= 12) & (weather_df.hour < 15) , 'time_of_day'] = 'Afternoon'\n",
    "weather_df.loc[(weather_df.hour >= 15) & (weather_df.hour < 18) , 'time_of_day'] = 'Evening'\n",
    "weather_df.loc[(weather_df.hour >= 18) | (weather_df.hour < 6) , 'time_of_day'] = 'Night'\n",
    "\n",
    "weather_df = weather_df[['temp', 'source', 'clouds', 'pressure', 'rain', 'time_stamp', 'humidity', \n",
    "                         'wind', 'date', 'time', 'weekday', 'hour', 'time_of_day']]"
   ]
  },
  {
   "cell_type": "code",
   "execution_count": null,
   "metadata": {},
   "outputs": [],
   "source": []
  },
  {
   "cell_type": "code",
   "execution_count": 43,
   "metadata": {},
   "outputs": [],
   "source": [
    "merged_data = pd.merge(weather_df, cab_weather_df, on=[\"source\", 'date'], how=\"outer\")"
   ]
  },
  {
   "cell_type": "code",
   "execution_count": 44,
   "metadata": {},
   "outputs": [
    {
     "name": "stdout",
     "output_type": "stream",
     "text": [
      "<class 'pandas.core.frame.DataFrame'>\n",
      "Int64Index: 644252 entries, 0 to 644251\n",
      "Data columns (total 24 columns):\n",
      " #   Column            Non-Null Count   Dtype  \n",
      "---  ------            --------------   -----  \n",
      " 0   temp              6276 non-null    float64\n",
      " 1   source            644252 non-null  object \n",
      " 2   clouds            6276 non-null    float64\n",
      " 3   pressure          6276 non-null    float64\n",
      " 4   rain              894 non-null     float64\n",
      " 5   time_stamp_x      6276 non-null    float64\n",
      " 6   humidity          6276 non-null    float64\n",
      " 7   wind              6276 non-null    float64\n",
      " 8   date              644252 non-null  object \n",
      " 9   time_x            6276 non-null    object \n",
      " 10  weekday_x         6276 non-null    object \n",
      " 11  hour_x            6276 non-null    float64\n",
      " 12  time_of_day_x     6276 non-null    object \n",
      " 13  distance          637976 non-null  float64\n",
      " 14  cab_type          637976 non-null  object \n",
      " 15  time_stamp_y      637976 non-null  float64\n",
      " 16  destination       637976 non-null  object \n",
      " 17  price             637976 non-null  float64\n",
      " 18  surge_multiplier  637976 non-null  float64\n",
      " 19  name              637976 non-null  object \n",
      " 20  time_y            637976 non-null  object \n",
      " 21  weekday_y         637976 non-null  object \n",
      " 22  hour_y            637976 non-null  float64\n",
      " 23  time_of_day_y     637976 non-null  object \n",
      "dtypes: float64(13), object(11)\n",
      "memory usage: 122.9+ MB\n"
     ]
    }
   ],
   "source": [
    "merged_data.info()"
   ]
  },
  {
   "cell_type": "code",
   "execution_count": 42,
   "metadata": {},
   "outputs": [
    {
     "data": {
      "text/plain": [
       "temp                  6276\n",
       "source              644252\n",
       "clouds                6276\n",
       "pressure              6276\n",
       "rain                   894\n",
       "time_stamp          644252\n",
       "humidity              6276\n",
       "wind                  6276\n",
       "date_x                6276\n",
       "time_x                6276\n",
       "weekday_x             6276\n",
       "hour_x                6276\n",
       "time_of_day_x         6276\n",
       "distance            637976\n",
       "cab_type            637976\n",
       "destination         637976\n",
       "price               637976\n",
       "surge_multiplier    637976\n",
       "name                637976\n",
       "date_y              637976\n",
       "time_y              637976\n",
       "weekday_y           637976\n",
       "hour_y              637976\n",
       "time_of_day_y       637976\n",
       "dtype: int64"
      ]
     },
     "execution_count": 42,
     "metadata": {},
     "output_type": "execute_result"
    }
   ],
   "source": [
    "merged_data.count()"
   ]
  },
  {
   "cell_type": "code",
   "execution_count": 134,
   "metadata": {},
   "outputs": [
    {
     "data": {
      "text/plain": [
       "temp                 0\n",
       "source               0\n",
       "clouds               0\n",
       "pressure             0\n",
       "rain                 0\n",
       "time_stamp           0\n",
       "humidity             0\n",
       "wind                 0\n",
       "distance            25\n",
       "cab_type            25\n",
       "destination         25\n",
       "price               25\n",
       "surge_multiplier    25\n",
       "name                25\n",
       "dtype: int64"
      ]
     },
     "execution_count": 134,
     "metadata": {},
     "output_type": "execute_result"
    }
   ],
   "source": [
    "merged_data.isnull().sum()"
   ]
  },
  {
   "cell_type": "code",
   "execution_count": 137,
   "metadata": {},
   "outputs": [
    {
     "data": {
      "text/html": [
       "<div>\n",
       "<style scoped>\n",
       "    .dataframe tbody tr th:only-of-type {\n",
       "        vertical-align: middle;\n",
       "    }\n",
       "\n",
       "    .dataframe tbody tr th {\n",
       "        vertical-align: top;\n",
       "    }\n",
       "\n",
       "    .dataframe thead th {\n",
       "        text-align: right;\n",
       "    }\n",
       "</style>\n",
       "<table border=\"1\" class=\"dataframe\">\n",
       "  <thead>\n",
       "    <tr style=\"text-align: right;\">\n",
       "      <th></th>\n",
       "      <th>temp</th>\n",
       "      <th>source</th>\n",
       "      <th>clouds</th>\n",
       "      <th>pressure</th>\n",
       "      <th>rain</th>\n",
       "      <th>time_stamp</th>\n",
       "      <th>humidity</th>\n",
       "      <th>wind</th>\n",
       "      <th>distance</th>\n",
       "      <th>cab_type</th>\n",
       "      <th>destination</th>\n",
       "      <th>price</th>\n",
       "      <th>surge_multiplier</th>\n",
       "      <th>name</th>\n",
       "    </tr>\n",
       "  </thead>\n",
       "  <tbody>\n",
       "    <tr>\n",
       "      <th>25</th>\n",
       "      <td>39.23</td>\n",
       "      <td>Back Bay</td>\n",
       "      <td>0.83</td>\n",
       "      <td>996.09</td>\n",
       "      <td>0.0284</td>\n",
       "      <td>1543449727</td>\n",
       "      <td>0.66</td>\n",
       "      <td>10.67</td>\n",
       "      <td>1.33</td>\n",
       "      <td>Lyft</td>\n",
       "      <td>South Station</td>\n",
       "      <td>13.5</td>\n",
       "      <td>1.0</td>\n",
       "      <td>Lux</td>\n",
       "    </tr>\n",
       "    <tr>\n",
       "      <th>26</th>\n",
       "      <td>39.23</td>\n",
       "      <td>Back Bay</td>\n",
       "      <td>0.83</td>\n",
       "      <td>996.09</td>\n",
       "      <td>0.0284</td>\n",
       "      <td>1543449727</td>\n",
       "      <td>0.66</td>\n",
       "      <td>10.67</td>\n",
       "      <td>3.17</td>\n",
       "      <td>Uber</td>\n",
       "      <td>North End</td>\n",
       "      <td>33.0</td>\n",
       "      <td>1.0</td>\n",
       "      <td>Black SUV</td>\n",
       "    </tr>\n",
       "    <tr>\n",
       "      <th>27</th>\n",
       "      <td>39.23</td>\n",
       "      <td>Back Bay</td>\n",
       "      <td>0.83</td>\n",
       "      <td>996.09</td>\n",
       "      <td>0.0284</td>\n",
       "      <td>1543449727</td>\n",
       "      <td>0.66</td>\n",
       "      <td>10.67</td>\n",
       "      <td>3.17</td>\n",
       "      <td>Uber</td>\n",
       "      <td>North End</td>\n",
       "      <td>10.0</td>\n",
       "      <td>1.0</td>\n",
       "      <td>WAV</td>\n",
       "    </tr>\n",
       "    <tr>\n",
       "      <th>28</th>\n",
       "      <td>39.23</td>\n",
       "      <td>Back Bay</td>\n",
       "      <td>0.83</td>\n",
       "      <td>996.09</td>\n",
       "      <td>0.0284</td>\n",
       "      <td>1543449727</td>\n",
       "      <td>0.66</td>\n",
       "      <td>10.67</td>\n",
       "      <td>3.17</td>\n",
       "      <td>Uber</td>\n",
       "      <td>North End</td>\n",
       "      <td>10.0</td>\n",
       "      <td>1.0</td>\n",
       "      <td>UberX</td>\n",
       "    </tr>\n",
       "    <tr>\n",
       "      <th>29</th>\n",
       "      <td>39.23</td>\n",
       "      <td>Back Bay</td>\n",
       "      <td>0.83</td>\n",
       "      <td>996.09</td>\n",
       "      <td>0.0284</td>\n",
       "      <td>1543449727</td>\n",
       "      <td>0.66</td>\n",
       "      <td>10.67</td>\n",
       "      <td>3.17</td>\n",
       "      <td>Uber</td>\n",
       "      <td>North End</td>\n",
       "      <td>22.0</td>\n",
       "      <td>1.0</td>\n",
       "      <td>Black</td>\n",
       "    </tr>\n",
       "  </tbody>\n",
       "</table>\n",
       "</div>"
      ],
      "text/plain": [
       "     temp    source  clouds  pressure    rain  time_stamp  humidity   wind  \\\n",
       "25  39.23  Back Bay    0.83    996.09  0.0284  1543449727      0.66  10.67   \n",
       "26  39.23  Back Bay    0.83    996.09  0.0284  1543449727      0.66  10.67   \n",
       "27  39.23  Back Bay    0.83    996.09  0.0284  1543449727      0.66  10.67   \n",
       "28  39.23  Back Bay    0.83    996.09  0.0284  1543449727      0.66  10.67   \n",
       "29  39.23  Back Bay    0.83    996.09  0.0284  1543449727      0.66  10.67   \n",
       "\n",
       "    distance cab_type    destination  price  surge_multiplier       name  \n",
       "25      1.33     Lyft  South Station   13.5               1.0        Lux  \n",
       "26      3.17     Uber      North End   33.0               1.0  Black SUV  \n",
       "27      3.17     Uber      North End   10.0               1.0        WAV  \n",
       "28      3.17     Uber      North End   10.0               1.0      UberX  \n",
       "29      3.17     Uber      North End   22.0               1.0      Black  "
      ]
     },
     "execution_count": 137,
     "metadata": {},
     "output_type": "execute_result"
    }
   ],
   "source": [
    "merged_data.dropna(inplace=True)\n",
    "\n",
    "merged_data.head()"
   ]
  },
  {
   "cell_type": "code",
   "execution_count": null,
   "metadata": {},
   "outputs": [],
   "source": []
  },
  {
   "cell_type": "code",
   "execution_count": null,
   "metadata": {},
   "outputs": [],
   "source": []
  },
  {
   "cell_type": "code",
   "execution_count": null,
   "metadata": {},
   "outputs": [],
   "source": []
  }
 ],
 "metadata": {
  "kernelspec": {
   "display_name": "Python 3",
   "language": "python",
   "name": "python3"
  },
  "language_info": {
   "codemirror_mode": {
    "name": "ipython",
    "version": 3
   },
   "file_extension": ".py",
   "mimetype": "text/x-python",
   "name": "python",
   "nbconvert_exporter": "python",
   "pygments_lexer": "ipython3",
   "version": "3.8.3"
  }
 },
 "nbformat": 4,
 "nbformat_minor": 4
}
